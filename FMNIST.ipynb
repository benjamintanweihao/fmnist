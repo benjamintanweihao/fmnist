{
 "cells": [
  {
   "cell_type": "code",
   "execution_count": 1,
   "metadata": {},
   "outputs": [
    {
     "name": "stderr",
     "output_type": "stream",
     "text": [
      "/home/benjamintan/anaconda3/envs/pyimagesearch/lib/python3.6/site-packages/h5py/__init__.py:36: FutureWarning: Conversion of the second argument of issubdtype from `float` to `np.floating` is deprecated. In future, it will be treated as `np.float64 == np.dtype(float).type`.\n",
      "  from ._conv import register_converters as _register_converters\n",
      "Using TensorFlow backend.\n"
     ]
    }
   ],
   "source": [
    "from __future__ import absolute_import, division, print_function\n",
    "\n",
    "import numpy as np\n",
    "import matplotlib.pyplot as plt\n",
    "import tensorflow as tf\n",
    "import tensorflow.contrib.eager as tfe\n",
    "\n",
    "from keras.datasets import fashion_mnist"
   ]
  },
  {
   "cell_type": "code",
   "execution_count": 2,
   "metadata": {},
   "outputs": [],
   "source": [
    "tf.enable_eager_execution()\n",
    "\n",
    "assert tf.executing_eagerly()"
   ]
  },
  {
   "cell_type": "code",
   "execution_count": 3,
   "metadata": {},
   "outputs": [],
   "source": [
    "from keras.datasets import fashion_mnist\n",
    "\n",
    "(x_train, y_train), (x_test, y_test) = fashion_mnist.load_data()\n",
    "\n",
    "y_train = tf.cast(y_train, tf.int32)\n",
    "y_test = tf.cast(y_test, tf.int32)\n",
    "\n",
    "x_train = x_train.reshape(60000, 784)\n",
    "x_test = x_test.reshape(10000, 784)\n",
    "x_train = x_train.astype('float32')\n",
    "x_test = x_test.astype('float32')\n",
    "x_train /= 255\n",
    "x_test /= 255"
   ]
  },
  {
   "cell_type": "code",
   "execution_count": 41,
   "metadata": {},
   "outputs": [],
   "source": [
    "def parse_csv(line):\n",
    "    example_defaults = [[0] for _ in range(785)]\n",
    "    parsed_line = tf.decode_csv(line, example_defaults)\n",
    "    label = tf.reshape(parsed_line[0], shape=())\n",
    "    features = tf.reshape(parsed_line[1:], shape=(784, ))\n",
    "    features/= 255\n",
    "    return features, label"
   ]
  },
  {
   "cell_type": "code",
   "execution_count": 42,
   "metadata": {},
   "outputs": [
    {
     "name": "stdout",
     "output_type": "stream",
     "text": [
      "Example feature: tf.Tensor(\n",
      "[0.         0.         0.         0.         0.         0.\n",
      " 0.         0.         0.         0.         0.01960784 0.31372549\n",
      " 0.40392157 0.59607843 0.5372549  0.34117647 0.49411765 0.68235294\n",
      " 0.68235294 0.23137255 0.01960784 0.         0.         0.\n",
      " 0.         0.         0.         0.         0.         0.\n",
      " 0.         0.         0.         0.         0.         0.\n",
      " 0.00784314 0.         0.60392157 0.87058824 0.77647059 0.84313725\n",
      " 1.         0.47058824 0.90196078 0.90196078 0.85490196 0.88235294\n",
      " 0.69803922 0.         0.         0.         0.         0.\n",
      " 0.         0.         0.         0.         0.         0.\n",
      " 0.         0.         0.         0.         0.         0.\n",
      " 0.45490196 0.80392157 0.79215686 0.8745098  0.86666667 0.71764706\n",
      " 0.81960784 0.8627451  0.81176471 0.82352941 0.61960784 0.\n",
      " 0.         0.         0.         0.         0.         0.\n",
      " 0.         0.         0.         0.         0.         0.\n",
      " 0.         0.         0.31372549 0.69019608 0.58823529 0.77254902\n",
      " 0.80784314 0.58823529 0.81568627 0.8627451  0.81568627 0.78823529\n",
      " 0.78039216 0.84313725 0.61568627 0.         0.         0.\n",
      " 0.         0.         0.         0.         0.         0.\n",
      " 0.         0.         0.         0.         0.         0.\n",
      " 0.69019608 0.87843137 0.81960784 0.85098039 0.85882353 0.36470588\n",
      " 0.85882353 0.89411765 0.83137255 0.77647059 0.76470588 0.81568627\n",
      " 0.69019608 0.         0.         0.         0.         0.\n",
      " 0.         0.         0.         0.         0.         0.\n",
      " 0.         0.         0.         0.         0.50980392 0.8\n",
      " 0.78431373 0.85098039 0.86666667 0.88235294 0.86666667 0.87058824\n",
      " 0.8        0.78431373 0.75686275 0.79215686 0.81960784 0.\n",
      " 0.         0.         0.         0.         0.         0.\n",
      " 0.         0.         0.         0.         0.         0.\n",
      " 0.         0.         0.55294118 0.80784314 0.75686275 0.85490196\n",
      " 0.84313725 0.84313725 0.85490196 0.83921569 0.78039216 0.78823529\n",
      " 0.76862745 0.77254902 0.92156863 0.00392157 0.         0.\n",
      " 0.         0.         0.         0.         0.         0.\n",
      " 0.         0.         0.         0.         0.         0.\n",
      " 0.67843137 0.79607843 0.74901961 0.76862745 0.84705882 0.83921569\n",
      " 0.82745098 0.76862745 0.78431373 0.76862745 0.75294118 0.74901961\n",
      " 0.81176471 0.29411765 0.         0.         0.         0.\n",
      " 0.         0.         0.         0.         0.         0.\n",
      " 0.         0.         0.         0.         0.8745098  0.75686275\n",
      " 0.76470588 0.74117647 0.74509804 0.75294118 0.7372549  0.76078431\n",
      " 0.78823529 0.77647059 0.74509804 0.74509804 0.78431373 0.42745098\n",
      " 0.         0.         0.         0.         0.         0.\n",
      " 0.         0.         0.         0.         0.         0.\n",
      " 0.         0.38823529 0.77647059 0.7372549  0.74901961 0.75686275\n",
      " 0.75686275 0.75294118 0.76078431 0.76470588 0.76078431 0.77254902\n",
      " 0.76470588 0.76862745 0.79607843 0.23137255 0.         0.\n",
      " 0.         0.         0.         0.         0.         0.\n",
      " 0.         0.         0.         0.         0.         0.39215686\n",
      " 0.75686275 0.7254902  0.73333333 0.74509804 0.74901961 0.74117647\n",
      " 0.7372549  0.74117647 0.74117647 0.76078431 0.75686275 0.74509804\n",
      " 0.90588235 0.08235294 0.         0.         0.         0.\n",
      " 0.         0.         0.         0.         0.         0.\n",
      " 0.         0.         0.         0.20784314 0.86666667 0.74117647\n",
      " 0.75686275 0.75294118 0.75294118 0.74117647 0.74117647 0.74509804\n",
      " 0.7372549  0.78039216 0.69411765 0.7254902  0.87843137 0.\n",
      " 0.         0.         0.         0.         0.         0.\n",
      " 0.         0.         0.         0.         0.         0.\n",
      " 0.         0.09411765 0.89803922 0.75294118 0.75686275 0.75294118\n",
      " 0.74901961 0.74117647 0.74509804 0.75294118 0.75686275 0.81960784\n",
      " 0.70588235 0.76470588 0.78431373 0.         0.         0.\n",
      " 0.         0.         0.         0.         0.         0.\n",
      " 0.         0.         0.         0.         0.         0.01176471\n",
      " 0.87058824 0.74901961 0.73333333 0.7372549  0.7372549  0.73333333\n",
      " 0.72941176 0.74117647 0.74509804 0.78431373 0.71764706 0.78431373\n",
      " 0.66666667 0.         0.         0.         0.         0.\n",
      " 0.         0.         0.         0.         0.         0.\n",
      " 0.         0.         0.         0.         0.85882353 0.7372549\n",
      " 0.72941176 0.73333333 0.7372549  0.7372549  0.73333333 0.74901961\n",
      " 0.75294118 0.77254902 0.72156863 0.8        0.63137255 0.\n",
      " 0.         0.         0.         0.         0.         0.\n",
      " 0.         0.         0.         0.         0.         0.\n",
      " 0.         0.         0.81960784 0.74117647 0.7372549  0.73333333\n",
      " 0.74509804 0.74509804 0.74117647 0.74901961 0.76078431 0.77254902\n",
      " 0.73333333 0.79607843 0.65882353 0.         0.         0.\n",
      " 0.         0.         0.         0.         0.         0.\n",
      " 0.         0.         0.         0.         0.         0.\n",
      " 0.78431373 0.74117647 0.7254902  0.7372549  0.74901961 0.74509804\n",
      " 0.74509804 0.74901961 0.75686275 0.76078431 0.7372549  0.79215686\n",
      " 0.73333333 0.         0.         0.         0.         0.\n",
      " 0.         0.         0.         0.         0.         0.\n",
      " 0.         0.         0.         0.         0.78039216 0.74509804\n",
      " 0.7254902  0.74117647 0.75294118 0.74901961 0.75294118 0.75294118\n",
      " 0.75294118 0.75294118 0.7372549  0.78431373 0.81960784 0.\n",
      " 0.         0.         0.         0.         0.         0.\n",
      " 0.         0.         0.         0.         0.         0.\n",
      " 0.         0.         0.81568627 0.74117647 0.73333333 0.74901961\n",
      " 0.75686275 0.75294118 0.75686275 0.75294118 0.75294118 0.75686275\n",
      " 0.74117647 0.77647059 0.90196078 0.         0.         0.\n",
      " 0.         0.         0.         0.         0.         0.\n",
      " 0.         0.         0.         0.         0.         0.\n",
      " 0.85882353 0.74117647 0.74509804 0.75686275 0.76470588 0.76078431\n",
      " 0.76470588 0.76470588 0.76470588 0.76862745 0.72941176 0.76470588\n",
      " 0.81568627 0.19607843 0.         0.         0.         0.\n",
      " 0.         0.         0.         0.         0.         0.\n",
      " 0.         0.         0.         0.04705882 0.87843137 0.74117647\n",
      " 0.74901961 0.76078431 0.76470588 0.76470588 0.76862745 0.76862745\n",
      " 0.76862745 0.78039216 0.73333333 0.76862745 0.83137255 0.34117647\n",
      " 0.         0.         0.         0.         0.         0.\n",
      " 0.         0.         0.         0.         0.         0.\n",
      " 0.         0.25098039 0.89411765 0.75294118 0.76862745 0.77254902\n",
      " 0.77647059 0.77254902 0.77647059 0.77647059 0.76470588 0.78823529\n",
      " 0.74901961 0.76862745 0.83921569 0.41960784 0.         0.\n",
      " 0.         0.         0.         0.         0.         0.\n",
      " 0.         0.         0.         0.         0.         0.37254902\n",
      " 0.88235294 0.76470588 0.8        0.80392157 0.81568627 0.81568627\n",
      " 0.80784314 0.79607843 0.78039216 0.78823529 0.76470588 0.75294118\n",
      " 0.83921569 0.49411765 0.         0.         0.         0.\n",
      " 0.         0.         0.         0.         0.         0.\n",
      " 0.         0.         0.         0.49019608 0.8627451  0.74901961\n",
      " 0.78431373 0.79215686 0.80784314 0.81176471 0.80784314 0.80392157\n",
      " 0.8        0.79607843 0.78039216 0.74901961 0.82745098 0.49411765\n",
      " 0.         0.         0.         0.         0.         0.\n",
      " 0.         0.         0.         0.         0.         0.\n",
      " 0.         0.53333333 0.84705882 0.74901961 0.78823529 0.79215686\n",
      " 0.80392157 0.8        0.79607843 0.79215686 0.78823529 0.79607843\n",
      " 0.78823529 0.79215686 0.89803922 0.48235294 0.         0.\n",
      " 0.         0.         0.         0.         0.         0.\n",
      " 0.         0.         0.         0.         0.         0.42352941\n",
      " 0.84705882 0.76078431 0.78823529 0.78823529 0.78823529 0.78039216\n",
      " 0.79215686 0.78823529 0.77647059 0.77254902 0.82352941 0.47058824\n",
      " 0.09411765 0.         0.         0.         0.         0.\n",
      " 0.         0.         0.         0.         0.         0.\n",
      " 0.         0.         0.         0.41176471 0.98431373 0.78823529\n",
      " 0.83137255 0.82745098 0.83137255 0.81960784 0.81960784 0.83529412\n",
      " 0.84313725 0.8        0.89411765 0.2745098  0.         0.\n",
      " 0.         0.         0.         0.         0.         0.\n",
      " 0.         0.         0.         0.         0.         0.\n",
      " 0.         0.07843137 0.68235294 0.6745098  0.68235294 0.67843137\n",
      " 0.69411765 0.69411765 0.70980392 0.69019608 0.65490196 0.69019608\n",
      " 0.66666667 0.04705882 0.         0.00392157 0.         0.\n",
      " 0.         0.         0.         0.        ], shape=(784,), dtype=float64)\n",
      "Example label: tf.Tensor(0, shape=(), dtype=int32)\n"
     ]
    }
   ],
   "source": [
    "train_dataset = tf.data.TextLineDataset(\"./data/fashion-mnist_train.csv\")\n",
    "train_dataset = train_dataset.skip(1)\n",
    "train_dataset = train_dataset.map(parse_csv)\n",
    "train_dataset = train_dataset.shuffle(buffer_size=1000)\n",
    "train_dataset = train_dataset.batch(32)\n",
    "\n",
    "features, label = iter(train_dataset).next()\n",
    "print(\"Example feature:\", features[0])\n",
    "print(\"Example label:\", label[0])"
   ]
  },
  {
   "cell_type": "code",
   "execution_count": 43,
   "metadata": {},
   "outputs": [],
   "source": [
    "# BATCH_SIZE = 128\n",
    "# SHUFFLE_SIZE = 1000\n",
    "\n",
    "# train_dataset = tf.data.Dataset.from_tensor_slices((x_train, y_train)) \\\n",
    "#           .shuffle(SHUFFLE_SIZE) \\\n",
    "#           .batch(BATCH_SIZE)\n",
    "\n",
    "# test_dataset = tf.data.Dataset.from_tensor_slices((x_test, y_test)) \\\n",
    "#           .batch(BATCH_SIZE)\n",
    "\n",
    "# features, label = iter(train_dataset).next()\n",
    "# print(\"Example feature:\", features[0])\n",
    "# print(\"Example label:\", label[0])"
   ]
  },
  {
   "cell_type": "code",
   "execution_count": 44,
   "metadata": {
    "scrolled": true
   },
   "outputs": [
    {
     "ename": "TypeError",
     "evalue": "Invalid dimensions for image data",
     "output_type": "error",
     "traceback": [
      "\u001b[0;31m---------------------------------------------------------------------------\u001b[0m",
      "\u001b[0;31mTypeError\u001b[0m                                 Traceback (most recent call last)",
      "\u001b[0;32m<ipython-input-44-2d14c40fa4e6>\u001b[0m in \u001b[0;36m<module>\u001b[0;34m()\u001b[0m\n\u001b[1;32m      4\u001b[0m     \u001b[0;32mfor\u001b[0m \u001b[0my\u001b[0m \u001b[0;32min\u001b[0m \u001b[0mrange\u001b[0m\u001b[0;34m(\u001b[0m\u001b[0;36m5\u001b[0m\u001b[0;34m)\u001b[0m\u001b[0;34m:\u001b[0m\u001b[0;34m\u001b[0m\u001b[0m\n\u001b[1;32m      5\u001b[0m         \u001b[0maxes\u001b[0m\u001b[0;34m[\u001b[0m\u001b[0mx\u001b[0m\u001b[0;34m]\u001b[0m\u001b[0;34m[\u001b[0m\u001b[0my\u001b[0m\u001b[0;34m]\u001b[0m\u001b[0;34m.\u001b[0m\u001b[0maxis\u001b[0m\u001b[0;34m(\u001b[0m\u001b[0;34m'off'\u001b[0m\u001b[0;34m)\u001b[0m\u001b[0;34m\u001b[0m\u001b[0m\n\u001b[0;32m----> 6\u001b[0;31m         \u001b[0maxes\u001b[0m\u001b[0;34m[\u001b[0m\u001b[0mx\u001b[0m\u001b[0;34m]\u001b[0m\u001b[0;34m[\u001b[0m\u001b[0my\u001b[0m\u001b[0;34m]\u001b[0m\u001b[0;34m.\u001b[0m\u001b[0mimshow\u001b[0m\u001b[0;34m(\u001b[0m\u001b[0mfeatures\u001b[0m\u001b[0;34m[\u001b[0m\u001b[0;36m5\u001b[0m\u001b[0;34m*\u001b[0m\u001b[0mx\u001b[0m \u001b[0;34m+\u001b[0m \u001b[0my\u001b[0m\u001b[0;34m]\u001b[0m\u001b[0;34m,\u001b[0m \u001b[0mcmap\u001b[0m\u001b[0;34m=\u001b[0m\u001b[0;34m'gray'\u001b[0m\u001b[0;34m)\u001b[0m\u001b[0;34m\u001b[0m\u001b[0m\n\u001b[0m",
      "\u001b[0;32m~/anaconda3/envs/pyimagesearch/lib/python3.6/site-packages/matplotlib/__init__.py\u001b[0m in \u001b[0;36minner\u001b[0;34m(ax, *args, **kwargs)\u001b[0m\n\u001b[1;32m   1715\u001b[0m                     warnings.warn(msg % (label_namer, func.__name__),\n\u001b[1;32m   1716\u001b[0m                                   RuntimeWarning, stacklevel=2)\n\u001b[0;32m-> 1717\u001b[0;31m             \u001b[0;32mreturn\u001b[0m \u001b[0mfunc\u001b[0m\u001b[0;34m(\u001b[0m\u001b[0max\u001b[0m\u001b[0;34m,\u001b[0m \u001b[0;34m*\u001b[0m\u001b[0margs\u001b[0m\u001b[0;34m,\u001b[0m \u001b[0;34m**\u001b[0m\u001b[0mkwargs\u001b[0m\u001b[0;34m)\u001b[0m\u001b[0;34m\u001b[0m\u001b[0m\n\u001b[0m\u001b[1;32m   1718\u001b[0m         \u001b[0mpre_doc\u001b[0m \u001b[0;34m=\u001b[0m \u001b[0minner\u001b[0m\u001b[0;34m.\u001b[0m\u001b[0m__doc__\u001b[0m\u001b[0;34m\u001b[0m\u001b[0m\n\u001b[1;32m   1719\u001b[0m         \u001b[0;32mif\u001b[0m \u001b[0mpre_doc\u001b[0m \u001b[0;32mis\u001b[0m \u001b[0;32mNone\u001b[0m\u001b[0;34m:\u001b[0m\u001b[0;34m\u001b[0m\u001b[0m\n",
      "\u001b[0;32m~/anaconda3/envs/pyimagesearch/lib/python3.6/site-packages/matplotlib/axes/_axes.py\u001b[0m in \u001b[0;36mimshow\u001b[0;34m(self, X, cmap, norm, aspect, interpolation, alpha, vmin, vmax, origin, extent, shape, filternorm, filterrad, imlim, resample, url, **kwargs)\u001b[0m\n\u001b[1;32m   5125\u001b[0m                               resample=resample, **kwargs)\n\u001b[1;32m   5126\u001b[0m \u001b[0;34m\u001b[0m\u001b[0m\n\u001b[0;32m-> 5127\u001b[0;31m         \u001b[0mim\u001b[0m\u001b[0;34m.\u001b[0m\u001b[0mset_data\u001b[0m\u001b[0;34m(\u001b[0m\u001b[0mX\u001b[0m\u001b[0;34m)\u001b[0m\u001b[0;34m\u001b[0m\u001b[0m\n\u001b[0m\u001b[1;32m   5128\u001b[0m         \u001b[0mim\u001b[0m\u001b[0;34m.\u001b[0m\u001b[0mset_alpha\u001b[0m\u001b[0;34m(\u001b[0m\u001b[0malpha\u001b[0m\u001b[0;34m)\u001b[0m\u001b[0;34m\u001b[0m\u001b[0m\n\u001b[1;32m   5129\u001b[0m         \u001b[0;32mif\u001b[0m \u001b[0mim\u001b[0m\u001b[0;34m.\u001b[0m\u001b[0mget_clip_path\u001b[0m\u001b[0;34m(\u001b[0m\u001b[0;34m)\u001b[0m \u001b[0;32mis\u001b[0m \u001b[0;32mNone\u001b[0m\u001b[0;34m:\u001b[0m\u001b[0;34m\u001b[0m\u001b[0m\n",
      "\u001b[0;32m~/anaconda3/envs/pyimagesearch/lib/python3.6/site-packages/matplotlib/image.py\u001b[0m in \u001b[0;36mset_data\u001b[0;34m(self, A)\u001b[0m\n\u001b[1;32m    609\u001b[0m         if not (self._A.ndim == 2\n\u001b[1;32m    610\u001b[0m                 or self._A.ndim == 3 and self._A.shape[-1] in [3, 4]):\n\u001b[0;32m--> 611\u001b[0;31m             \u001b[0;32mraise\u001b[0m \u001b[0mTypeError\u001b[0m\u001b[0;34m(\u001b[0m\u001b[0;34m\"Invalid dimensions for image data\"\u001b[0m\u001b[0;34m)\u001b[0m\u001b[0;34m\u001b[0m\u001b[0m\n\u001b[0m\u001b[1;32m    612\u001b[0m \u001b[0;34m\u001b[0m\u001b[0m\n\u001b[1;32m    613\u001b[0m         \u001b[0mself\u001b[0m\u001b[0;34m.\u001b[0m\u001b[0m_imcache\u001b[0m \u001b[0;34m=\u001b[0m \u001b[0;32mNone\u001b[0m\u001b[0;34m\u001b[0m\u001b[0m\n",
      "\u001b[0;31mTypeError\u001b[0m: Invalid dimensions for image data"
     ]
    },
    {
     "data": {
      "image/png": "[encoded data removed]",
      "text/plain": [
       "<matplotlib.figure.Figure at 0x7f041c36b358>"
      ]
     },
     "metadata": {},
     "output_type": "display_data"
    }
   ],
   "source": [
    "fig, axes = plt.subplots(5, 5, figsize=(12, 12),)\n",
    "\n",
    "for x in range(5):\n",
    "    for y in range(5):\n",
    "        axes[x][y].axis('off')\n",
    "        axes[x][y].imshow(features[5*x + y], cmap='gray')"
   ]
  },
  {
   "cell_type": "markdown",
   "metadata": {},
   "source": [
    "### Make Model"
   ]
  },
  {
   "cell_type": "code",
   "execution_count": 45,
   "metadata": {},
   "outputs": [],
   "source": [
    "class FMNISTModel(tf.keras.Model):\n",
    "    \n",
    "    def __init__(self):\n",
    "        super(FMNISTModel, self).__init__()\n",
    "        self._input_shape = [-1, 28, 28, 1]\n",
    "        self.conv1 = tf.layers.Conv2D(32, 3, \n",
    "                                      padding='same', \n",
    "                                      activation=tf.nn.relu)\n",
    "        self.maxpool = tf.layers.MaxPooling2D((2, 2), \n",
    "                                              strides=(2, 2),\n",
    "                                              padding='same')\n",
    "        self.conv2 = tf.layers.Conv2D(64, 3, \n",
    "                                      padding='same', \n",
    "                                      activation=tf.nn.relu)\n",
    "        self.conv3 = tf.layers.Conv2D(128, 3,\n",
    "                                      activation=tf.nn.relu)\n",
    "        self.dense1 = tf.layers.Dense(1024, activation=tf.nn.relu)\n",
    "        self.dense2 = tf.layers.Dense(512, activation=tf.nn.relu)\n",
    "        self.dropout = tf.layers.Dropout(0.5)\n",
    "        self.dense3 = tf.layers.Dense(10)\n",
    "        \n",
    "    def __call__(self, inputs, training=False):\n",
    "        x = tf.reshape(inputs, self._input_shape)\n",
    "        x = self.conv1(x)\n",
    "        x = self.maxpool(x)\n",
    "        x = self.conv2(x)\n",
    "        x = self.conv3(x)\n",
    "        x = self.maxpool(x)\n",
    "        x = tf.layers.flatten(x)\n",
    "        x = self.dense1(x)\n",
    "        x = self.dropout(x, training)\n",
    "        x = self.dense2(x)\n",
    "        x = self.dropout(x, training)\n",
    "        x = self.dense3(x)\n",
    "        return x\n",
    "        \n",
    "        "
   ]
  },
  {
   "cell_type": "code",
   "execution_count": 46,
   "metadata": {},
   "outputs": [],
   "source": [
    "def loss(model, x, y, training):\n",
    "    y_ = model(x, training=training)\n",
    "    return tf.losses.sparse_softmax_cross_entropy(labels=y, logits=y_)"
   ]
  },
  {
   "cell_type": "code",
   "execution_count": 47,
   "metadata": {},
   "outputs": [],
   "source": [
    "def grad(model, inputs, targets, training):\n",
    "    with tf.GradientTape() as tape:\n",
    "        loss_value = loss(model, inputs, targets, training=training)\n",
    "    return tape.gradient(loss_value, model.variables)\n"
   ]
  },
  {
   "cell_type": "code",
   "execution_count": 48,
   "metadata": {},
   "outputs": [],
   "source": [
    "model = FMNISTModel()"
   ]
  },
  {
   "cell_type": "code",
   "execution_count": 49,
   "metadata": {},
   "outputs": [],
   "source": [
    "optimizer = tf.train.AdamOptimizer(learning_rate=1e-4)"
   ]
  },
  {
   "cell_type": "code",
   "execution_count": 50,
   "metadata": {},
   "outputs": [
    {
     "name": "stderr",
     "output_type": "stream",
     "text": [
      "\n",
      "  0%|          | 0/4 [00:00<?, ?it/s]\u001b[A\n",
      " 25%|██▌       | 1/4 [05:13<15:40, 313.40s/it]\u001b[A"
     ]
    },
    {
     "name": "stdout",
     "output_type": "stream",
     "text": [
      "Epoch 000: Loss: 0.622, Accuracy: 80.268%\n"
     ]
    },
    {
     "name": "stderr",
     "output_type": "stream",
     "text": [
      "\n",
      " 50%|█████     | 2/4 [11:25<11:25, 342.63s/it]\u001b[A"
     ]
    },
    {
     "name": "stdout",
     "output_type": "stream",
     "text": [
      "Epoch 001: Loss: 0.384, Accuracy: 87.613%\n"
     ]
    },
    {
     "name": "stderr",
     "output_type": "stream",
     "text": [
      "\n",
      " 75%|███████▌  | 3/4 [18:27<06:09, 369.10s/it]\u001b[A"
     ]
    },
    {
     "name": "stdout",
     "output_type": "stream",
     "text": [
      "Epoch 002: Loss: 0.321, Accuracy: 89.548%\n"
     ]
    },
    {
     "name": "stderr",
     "output_type": "stream",
     "text": [
      "\n",
      "100%|██████████| 4/4 [26:03<00:00, 390.89s/it]\u001b[A\n",
      "\u001b[A"
     ]
    },
    {
     "name": "stdout",
     "output_type": "stream",
     "text": [
      "Epoch 003: Loss: 0.278, Accuracy: 90.830%\n"
     ]
    }
   ],
   "source": [
    "## Note: Rerunning this cell uses the same model variables\n",
    "from tqdm import tqdm\n",
    "\n",
    "# keep results for plotting\n",
    "train_loss_results = []\n",
    "train_accuracy_results = []\n",
    "\n",
    "num_epochs = 4\n",
    "\n",
    "for epoch in tqdm(range(num_epochs)):\n",
    "    epoch_loss_avg = tfe.metrics.Mean()\n",
    "    epoch_accuracy = tfe.metrics.Accuracy()\n",
    "\n",
    "    # Training loop - using batches of 32\n",
    "    for x, y in tfe.Iterator(train_dataset):\n",
    "        # Optimize the model\n",
    "        grads = grad(model, x, y, training=True)\n",
    "\n",
    "        optimizer.apply_gradients(zip(grads, model.variables),\n",
    "                                 global_step=tf.train.get_or_create_global_step())\n",
    "\n",
    "        # Track progress\n",
    "        epoch_loss_avg(loss(model, x, y, training=True))  # add current batch loss\n",
    "        # compare predicted label to actual label\n",
    "        epoch_accuracy(tf.argmax(model(x), axis=1, output_type=tf.int32), y)\n",
    "\n",
    "    # end epoch\n",
    "    train_loss_results.append(epoch_loss_avg.result())\n",
    "    train_accuracy_results.append(epoch_accuracy.result())\n",
    "\n",
    "    print(\"Epoch {:03d}: Loss: {:.3f}, Accuracy: {:.3%}\".format(epoch,\n",
    "                                                                epoch_loss_avg.result(),\n",
    "                                                                epoch_accuracy.result()))\n"
   ]
  },
  {
   "cell_type": "code",
   "execution_count": null,
   "metadata": {},
   "outputs": [],
   "source": []
  },
  {
   "cell_type": "code",
   "execution_count": null,
   "metadata": {},
   "outputs": [],
   "source": []
  }
 ],
 "metadata": {
  "kernelspec": {
   "display_name": "Python 3",
   "language": "python",
   "name": "python3"
  },
  "language_info": {
   "codemirror_mode": {
    "name": "ipython",
    "version": 3
   },
   "file_extension": ".py",
   "mimetype": "text/x-python",
   "name": "python",
   "nbconvert_exporter": "python",
   "pygments_lexer": "ipython3",
   "version": "3.6.0"
  }
 },
 "nbformat": 4,
 "nbformat_minor": 2
}
